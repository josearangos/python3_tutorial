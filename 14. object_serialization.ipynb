{
 "cells": [
  {
   "cell_type": "markdown",
   "metadata": {},
   "source": [
    "***\n",
    "# Pickle\n",
    "***"
   ]
  },
  {
   "cell_type": "code",
   "execution_count": 12,
   "metadata": {},
   "outputs": [],
   "source": [
    "try:\n",
    "    import cPickle as pickle\n",
    "except ImportError:\n",
    "    import pickle"
   ]
  },
  {
   "cell_type": "code",
   "execution_count": 13,
   "metadata": {},
   "outputs": [],
   "source": [
    "languajes = ['python', 'java', 'javascript', 'go']\n",
    "frameworks = ['spring', 'flask', 'django', 'angular']"
   ]
  },
  {
   "cell_type": "code",
   "execution_count": 14,
   "metadata": {},
   "outputs": [],
   "source": [
    "with open('file_serialization.txt', 'wb') as file:\n",
    "    pickle.dump(languajes, file, 2)\n",
    "    pickle.dump(frameworks, file, 2)\n",
    "\n",
    "file.close()"
   ]
  },
  {
   "cell_type": "code",
   "execution_count": 15,
   "metadata": {},
   "outputs": [
    {
     "name": "stdout",
     "output_type": "stream",
     "text": [
      "['python', 'java', 'javascript', 'go']\n",
      "['spring', 'flask', 'django', 'angular']\n"
     ]
    }
   ],
   "source": [
    "with open('file_serialization.txt', 'rb') as file:\n",
    "    languajes_load = pickle.load(file)\n",
    "    frameworks_load = pickle.load(file)\n",
    "    \n",
    "    print(languajes_load)\n",
    "    print(frameworks_load)\n",
    "    "
   ]
  },
  {
   "cell_type": "markdown",
   "metadata": {},
   "source": [
    "***\n",
    "# Shelve\n",
    "***"
   ]
  },
  {
   "cell_type": "code",
   "execution_count": 4,
   "metadata": {},
   "outputs": [],
   "source": [
    "import shelve"
   ]
  },
  {
   "cell_type": "code",
   "execution_count": 5,
   "metadata": {},
   "outputs": [],
   "source": [
    "languajes = ['python', 'java', 'javascript', 'go']\n",
    "frameworks = ['spring', 'flask', 'django', 'angular']"
   ]
  },
  {
   "cell_type": "code",
   "execution_count": 6,
   "metadata": {},
   "outputs": [],
   "source": [
    "file = shelve.open('file_shelve.dat')\n",
    "file.close()"
   ]
  },
  {
   "cell_type": "code",
   "execution_count": 7,
   "metadata": {},
   "outputs": [],
   "source": [
    "shelve_instance = shelve.open('file_shelve.dat')\n",
    "\n",
    "shelve_instance['languajes'] = languajes\n",
    "shelve_instance['frameworks'] = frameworks"
   ]
  },
  {
   "cell_type": "code",
   "execution_count": 8,
   "metadata": {},
   "outputs": [],
   "source": [
    "languajes_load = shelve_instance['languajes']\n",
    "frameworks_load = shelve_instance['frameworks']"
   ]
  },
  {
   "cell_type": "code",
   "execution_count": 9,
   "metadata": {},
   "outputs": [
    {
     "name": "stdout",
     "output_type": "stream",
     "text": [
      "['python', 'java', 'javascript', 'go']\n",
      "['spring', 'flask', 'django', 'angular']\n"
     ]
    }
   ],
   "source": [
    "print(languajes_load)\n",
    "print(frameworks_load)"
   ]
  },
  {
   "cell_type": "code",
   "execution_count": 10,
   "metadata": {},
   "outputs": [],
   "source": [
    "shelve_instance.close()"
   ]
  }
 ],
 "metadata": {
  "kernelspec": {
   "display_name": "Python 3",
   "language": "python",
   "name": "python3"
  },
  "language_info": {
   "codemirror_mode": {
    "name": "ipython",
    "version": 3
   },
   "file_extension": ".py",
   "mimetype": "text/x-python",
   "name": "python",
   "nbconvert_exporter": "python",
   "pygments_lexer": "ipython3",
   "version": "3.7.1"
  }
 },
 "nbformat": 4,
 "nbformat_minor": 2
}
