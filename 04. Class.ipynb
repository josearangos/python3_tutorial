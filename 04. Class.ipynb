{
 "cells": [
  {
   "cell_type": "markdown",
   "metadata": {},
   "source": [
    "***\n",
    "# Definition\n",
    "***"
   ]
  },
  {
   "cell_type": "code",
   "execution_count": 1,
   "metadata": {},
   "outputs": [],
   "source": [
    "class MyClass:\n",
    "    def __init__(self, param):\n",
    "        self.param = param"
   ]
  },
  {
   "cell_type": "markdown",
   "metadata": {},
   "source": [
    "***\n",
    "# Car example \n",
    "***"
   ]
  },
  {
   "cell_type": "code",
   "execution_count": 2,
   "metadata": {},
   "outputs": [],
   "source": [
    "class Car:\n",
    "    def __init__(self, fuel):\n",
    "        self.fuel = fuel\n",
    "        \n",
    "    def show_fuel(self):\n",
    "        return 'The car have ' + str(self.fuel) + ' fuel'\n",
    "        \n",
    "    def turn_on(self):\n",
    "        return 'The car has been turned on'\n",
    "    \n",
    "    def turn_off(self):\n",
    "        return 'The car has been turned off'\n",
    "    \n",
    "    def drive(self):\n",
    "        if self.fuel > 0:\n",
    "            self.fuel -= 1\n",
    "            message = 'The car moves forward'\n",
    "        else:\n",
    "            message = 'There is not enough fuel'\n",
    "        return message\n",
    "    \n",
    "    def stop(self):\n",
    "        return 'The car has been stoped'\n",
    "    \n",
    "    def tank_fuel(self):\n",
    "        fuel = int(input('Enter the amount of fuel to be tanked ==> '))\n",
    "        self.fuel = fuel\n",
    "        "
   ]
  },
  {
   "cell_type": "code",
   "execution_count": 3,
   "metadata": {},
   "outputs": [
    {
     "name": "stdout",
     "output_type": "stream",
     "text": [
      "The car have 10 fuel\n",
      "The car has been turned on\n",
      "The car has been turned off\n",
      "The car moves forward\n",
      "The car have 9 fuel\n",
      "The car moves forward\n",
      "The car have 8 fuel\n",
      "The car moves forward\n",
      "The car have 7 fuel\n",
      "The car moves forward\n",
      "The car have 6 fuel\n",
      "The car moves forward\n",
      "The car have 5 fuel\n",
      "The car moves forward\n",
      "The car have 4 fuel\n",
      "The car moves forward\n",
      "The car have 3 fuel\n",
      "The car moves forward\n",
      "The car have 2 fuel\n",
      "The car moves forward\n",
      "The car have 1 fuel\n",
      "The car moves forward\n",
      "The car have 0 fuel\n",
      "The car have 0 fuel\n",
      "The car has been stoped\n",
      "Enter the amount of fuel to be tanked ==> 10\n",
      "The car have 10 fuel\n",
      "The car has been stoped\n",
      "The car has been turned off\n"
     ]
    }
   ],
   "source": [
    "my_car = Car(10)\n",
    "print(my_car.show_fuel())\n",
    "print(my_car.turn_on())\n",
    "print(my_car.turn_off())\n",
    "for i in range(10):\n",
    "    print(my_car.drive())\n",
    "    print(my_car.show_fuel())\n",
    "print(my_car.show_fuel())\n",
    "print(my_car.stop())\n",
    "my_car.tank_fuel()\n",
    "print(my_car.show_fuel())\n",
    "print(my_car.stop())\n",
    "print(my_car.turn_off())"
   ]
  },
  {
   "cell_type": "markdown",
   "metadata": {},
   "source": [
    "***\n",
    "# Inheritance\n",
    "***"
   ]
  },
  {
   "cell_type": "code",
   "execution_count": 5,
   "metadata": {},
   "outputs": [],
   "source": [
    "class Pet:\n",
    "    def __init__(self, name, age):\n",
    "        self.__name = name\n",
    "        self.__age = age\n",
    "    \n",
    "    def getName(self):\n",
    "        return self.__name\n",
    "    \n",
    "    def setName(self, name):\n",
    "        if name is str:\n",
    "            self.__name = name\n",
    "    \n",
    "    def getAge(self):\n",
    "        return self.__age\n",
    "    \n",
    "    def setAge(self, age):\n",
    "        if age > 0 and age < 100:\n",
    "            self.__age = age\n",
    "            \n",
    "class Dog(Pet):\n",
    "    pass\n",
    "\n",
    "class Cat(Pet):\n",
    "    pass"
   ]
  },
  {
   "cell_type": "code",
   "execution_count": 8,
   "metadata": {},
   "outputs": [
    {
     "name": "stdout",
     "output_type": "stream",
     "text": [
      "Tonny\n",
      "16\n"
     ]
    }
   ],
   "source": [
    "my_dog = Dog('Tonny', 16)\n",
    "print(my_dog.getName())\n",
    "print(my_dog.getAge())"
   ]
  },
  {
   "cell_type": "code",
   "execution_count": 9,
   "metadata": {},
   "outputs": [
    {
     "name": "stdout",
     "output_type": "stream",
     "text": [
      "Alaska\n",
      "2\n"
     ]
    }
   ],
   "source": [
    "my_cat = Cat('Alaska', 2)\n",
    "print(my_cat.getName())\n",
    "print(my_cat.getAge())"
   ]
  },
  {
   "cell_type": "code",
   "execution_count": null,
   "metadata": {},
   "outputs": [],
   "source": []
  }
 ],
 "metadata": {
  "kernelspec": {
   "display_name": "Python 3",
   "language": "python",
   "name": "python3"
  },
  "language_info": {
   "codemirror_mode": {
    "name": "ipython",
    "version": 3
   },
   "file_extension": ".py",
   "mimetype": "text/x-python",
   "name": "python",
   "nbconvert_exporter": "python",
   "pygments_lexer": "ipython3",
   "version": "3.5.2"
  }
 },
 "nbformat": 4,
 "nbformat_minor": 2
}
