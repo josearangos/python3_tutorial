{
 "cells": [
  {
   "cell_type": "markdown",
   "metadata": {},
   "source": [
    "***\n",
    "# General info\n",
    "***\n",
    "Access methods\n",
    "* r: read\n",
    "* w: write\n",
    "* a: append\n",
    "* b: binary\n",
    "* +: read and write\n",
    "* U: Universal newline"
   ]
  },
  {
   "cell_type": "markdown",
   "metadata": {},
   "source": [
    "***\n",
    "# Read file\n",
    "***"
   ]
  },
  {
   "cell_type": "code",
   "execution_count": 3,
   "metadata": {},
   "outputs": [],
   "source": [
    "try:\n",
    "    file = open('file.txt', 'r')\n",
    "except Exception as e:\n",
    "    print(f'Error: e')"
   ]
  },
  {
   "cell_type": "code",
   "execution_count": 4,
   "metadata": {},
   "outputs": [
    {
     "name": "stdout",
     "output_type": "stream",
     "text": [
      "Alejandro Sánchez Yalí\n",
      "Luis Felipe Henao\n",
      "Juan David Arias\n",
      "Mauricio Villa\n",
      "\n"
     ]
    }
   ],
   "source": [
    "text = file.read()\n",
    "print(text)"
   ]
  },
  {
   "cell_type": "code",
   "execution_count": 5,
   "metadata": {},
   "outputs": [
    {
     "name": "stdout",
     "output_type": "stream",
     "text": [
      "1. lejandro Sánchez Yalí\n",
      "\n",
      "2. Luis Felipe Henao\n",
      "\n",
      "3. Juan David Arias\n",
      "\n",
      "4. Mauricio Villa\n",
      "\n"
     ]
    }
   ],
   "source": [
    "counter = 1\n",
    "\n",
    "# Move pointer to top\n",
    "file.seek(1)\n",
    "\n",
    "while True:\n",
    "    line = file.readline()\n",
    "    if not line: break\n",
    "    print(f'{counter}. {line}')\n",
    "    counter += 1"
   ]
  },
  {
   "cell_type": "code",
   "execution_count": 6,
   "metadata": {},
   "outputs": [
    {
     "name": "stdout",
     "output_type": "stream",
     "text": [
      "['Alejandro Sánchez Yalí\\n', 'Luis Felipe Henao\\n', 'Juan David Arias\\n', 'Mauricio Villa\\n']\n"
     ]
    }
   ],
   "source": [
    "# Move pointer to begining\n",
    "file.seek(0)\n",
    "\n",
    "# Get a list with lines\n",
    "file_data = file.readlines()\n",
    "print(file_data)"
   ]
  },
  {
   "cell_type": "code",
   "execution_count": 7,
   "metadata": {},
   "outputs": [],
   "source": [
    "# Close the file\n",
    "file.close()"
   ]
  },
  {
   "cell_type": "markdown",
   "metadata": {},
   "source": [
    "***\n",
    "# Write file\n",
    "***"
   ]
  },
  {
   "cell_type": "code",
   "execution_count": 8,
   "metadata": {},
   "outputs": [],
   "source": [
    "# Replace file content\n",
    "file = open('file.txt', 'w')\n",
    "file.write('Changing everything...')\n",
    "file.close()"
   ]
  },
  {
   "cell_type": "code",
   "execution_count": 5,
   "metadata": {},
   "outputs": [],
   "source": [
    "# Append content to file\n",
    "file = open('file.txt', 'a+')\n",
    "\n",
    "# At beginning\n",
    "file.seek(2)\n",
    "file.write('Ichorlab\\n'.upper())\n",
    "\n",
    "# At the end\n",
    "file.seek(2)\n",
    "file.write('The best fucking software team\\n'.upper())\n",
    "\n",
    "# close the file\n",
    "file.close()"
   ]
  },
  {
   "cell_type": "code",
   "execution_count": null,
   "metadata": {},
   "outputs": [],
   "source": []
  }
 ],
 "metadata": {
  "kernelspec": {
   "display_name": "Python 3",
   "language": "python",
   "name": "python3"
  },
  "language_info": {
   "codemirror_mode": {
    "name": "ipython",
    "version": 3
   },
   "file_extension": ".py",
   "mimetype": "text/x-python",
   "name": "python",
   "nbconvert_exporter": "python",
   "pygments_lexer": "ipython3",
   "version": "3.7.1"
  }
 },
 "nbformat": 4,
 "nbformat_minor": 2
}
