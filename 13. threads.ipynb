{
 "cells": [
  {
   "cell_type": "markdown",
   "metadata": {},
   "source": [
    "*** \n",
    "# Extending Thread class\n",
    "***"
   ]
  },
  {
   "cell_type": "code",
   "execution_count": 2,
   "metadata": {},
   "outputs": [],
   "source": [
    "import threading"
   ]
  },
  {
   "cell_type": "code",
   "execution_count": 18,
   "metadata": {},
   "outputs": [],
   "source": [
    "class MyThread(threading.Thread):\n",
    "    \n",
    "    def __init__(self, number):\n",
    "        threading.Thread.__init__(self)\n",
    "        self.number = number\n",
    "        \n",
    "    def run(self):\n",
    "        print(f'Im the {self.number} Thread')"
   ]
  },
  {
   "cell_type": "code",
   "execution_count": 20,
   "metadata": {},
   "outputs": [
    {
     "name": "stdout",
     "output_type": "stream",
     "text": [
      "Im the main thread\n",
      "Im the 0 Thread\n",
      "Im the 1 Thread\n",
      "Im the 2 Thread\n",
      "Im the 3 Thread\n",
      "Im the 4 Thread\n",
      "Im the 5 Thread\n",
      "Im the 6 Thread\n",
      "Im the 7 Thread\n",
      "Im the 8 Thread\n",
      "Im the 9 Thread\n"
     ]
    }
   ],
   "source": [
    "print('Im the main thread')\n",
    "\n",
    "for i in range(10):\n",
    "    thread = MyThread(i)\n",
    "    thread.start()\n",
    "    thread.join()"
   ]
  },
  {
   "cell_type": "markdown",
   "metadata": {},
   "source": [
    "***\n",
    "# Creating direct instance\n",
    "***"
   ]
  },
  {
   "cell_type": "code",
   "execution_count": 11,
   "metadata": {},
   "outputs": [],
   "source": [
    "import threading"
   ]
  },
  {
   "cell_type": "code",
   "execution_count": 21,
   "metadata": {},
   "outputs": [],
   "source": [
    "def print_number(number):\n",
    "    print(f'Im the {number} thread')"
   ]
  },
  {
   "cell_type": "code",
   "execution_count": 25,
   "metadata": {},
   "outputs": [
    {
     "name": "stdout",
     "output_type": "stream",
     "text": [
      "Im the main thread\n",
      "Im the 0 thread\n",
      "Im the 1 thread\n",
      "Im the 2 thread\n",
      "Im the 3 thread\n",
      "Im the 4 thread\n",
      "Im the 5 thread\n",
      "Im the 6 thread\n",
      "Im the 7 thread\n",
      "Im the 8 thread\n",
      "Im the 9 thread\n"
     ]
    }
   ],
   "source": [
    "print('Im the main thread')\n",
    "\n",
    "for i in range(10):\n",
    "    thread = threading.Thread(target=print_number, args=(i, ))\n",
    "    thread.start()\n",
    "    thread.join()"
   ]
  },
  {
   "cell_type": "markdown",
   "metadata": {},
   "source": [
    "***\n",
    "# Thread synchronization\n",
    "***"
   ]
  },
  {
   "cell_type": "code",
   "execution_count": 26,
   "metadata": {},
   "outputs": [],
   "source": [
    "# Using Locks\n",
    "\n",
    "items = []\n",
    "\n",
    "lock = threading.Lock()\n",
    "\n",
    "def producer(object):\n",
    "    lock.adquiere()\n",
    "    item.append(object)\n",
    "    lock.release()\n",
    "    \n",
    "def consumer():\n",
    "    lock.adquire()\n",
    "    object = items.pop()\n",
    "    lock.release()\n",
    "    \n",
    "    return object"
   ]
  },
  {
   "cell_type": "code",
   "execution_count": null,
   "metadata": {},
   "outputs": [],
   "source": [
    "# Using semaphores\n",
    "\n",
    "items = []\n",
    "\n",
    "semaphore = threading.Semaphore(4)\n",
    "\n",
    "def producer(object):\n",
    "    semaphore.adquiere()\n",
    "    item.append(object)\n",
    "    semaphore.release()\n",
    "    \n",
    "def consumer():\n",
    "    semaphore.adquire()\n",
    "    object = items.pop()\n",
    "    semaphore.release()\n",
    "    \n",
    "    return object"
   ]
  },
  {
   "cell_type": "code",
   "execution_count": null,
   "metadata": {},
   "outputs": [],
   "source": [
    "# Using Condition\n",
    "\n",
    "items = []\n",
    "condition = threading.Condition()\n",
    "\n",
    "def consumer():\n",
    "    condition.adquire()\n",
    "    condition.wait()\n",
    "    object = items.pop()\n",
    "    condition.release()\n",
    "    \n",
    "    return object\n",
    "\n",
    "def producer(object);\n",
    "    condition.adquire()\n",
    "    items.append(object)\n",
    "    condition.notify()\n",
    "    condition.release()"
   ]
  },
  {
   "cell_type": "code",
   "execution_count": 30,
   "metadata": {},
   "outputs": [
    {
     "name": "stdout",
     "output_type": "stream",
     "text": [
      "Thread-130 waiting the event\n",
      "Thread-131 waiting the event\n",
      "Thread-131 the wait ends\n",
      "Thread-130 the wait ends\n"
     ]
    }
   ],
   "source": [
    "# Using events\n",
    "\n",
    "import threading\n",
    "import time\n",
    "\n",
    "class MyThread(threading.Thread):\n",
    "    \n",
    "    def __init__(self, event):\n",
    "        threading.Thread.__init__(self)\n",
    "        self.event = event\n",
    "        \n",
    "    def run(self):\n",
    "        print(f'{self.getName()} waiting the event')\n",
    "        self.event.wait()\n",
    "        print(f'{self.getName()} the wait ends')\n",
    "        \n",
    "event = threading.Event()\n",
    "\n",
    "thread_one = MyThread(event)\n",
    "thread_one.start()\n",
    "\n",
    "thread_two = MyThread(event)\n",
    "thread_two.start()\n",
    "\n",
    "time.sleep(5)\n",
    "event.set()"
   ]
  },
  {
   "cell_type": "code",
   "execution_count": 31,
   "metadata": {},
   "outputs": [],
   "source": [
    "# Synchronized decorator\n",
    "\n",
    "def syncronized(lock):\n",
    "    def dec(f):\n",
    "        def func_dec(*args, **kwargs):\n",
    "            lock.adquire()\n",
    "            try:\n",
    "                return f(*args, **kwargs)\n",
    "            finally:\n",
    "                lock.release()\n",
    "        return func_dec\n",
    "    return dec\n",
    "\n",
    "\n",
    "class MyThread(threading.Thread):\n",
    "    @syncronized\n",
    "    def run(self):\n",
    "        print('Syncronized method')"
   ]
  },
  {
   "cell_type": "markdown",
   "metadata": {},
   "source": [
    "***\n",
    "# Independent global data\n",
    "***"
   ]
  },
  {
   "cell_type": "code",
   "execution_count": 32,
   "metadata": {},
   "outputs": [
    {
     "name": "stdout",
     "output_type": "stream",
     "text": [
      "hello\n"
     ]
    }
   ],
   "source": [
    "local_data = threading.local()\n",
    "local_data.local_var = 'hello'\n",
    "\n",
    "print(local_data.local_var)"
   ]
  },
  {
   "cell_type": "code",
   "execution_count": 37,
   "metadata": {},
   "outputs": [
    {
     "name": "stdout",
     "output_type": "stream",
     "text": [
      "Hello\n"
     ]
    },
    {
     "name": "stderr",
     "output_type": "stream",
     "text": [
      "Exception in thread Thread-136:\n",
      "Traceback (most recent call last):\n",
      "  File \"/usr/lib/python3.7/threading.py\", line 917, in _bootstrap_inner\n",
      "    self.run()\n",
      "  File \"/usr/lib/python3.7/threading.py\", line 865, in run\n",
      "    self._target(*self._args, **self._kwargs)\n",
      "  File \"<ipython-input-37-c6bc18dd7536>\", line 4, in function\n",
      "    print(local.var)\n",
      "AttributeError: '_thread._local' object has no attribute 'var'\n",
      "\n"
     ]
    }
   ],
   "source": [
    "# the main thread has the var attribute,\n",
    "# while the thread thread does not have it\n",
    "\n",
    "local = threading.local()\n",
    "\n",
    "def function():\n",
    "    print(local.var)\n",
    "    \n",
    "local.var = 'Hello'\n",
    "thread = threading.Thread(target=function)\n",
    "\n",
    "print(local.var)\n",
    "\n",
    "thread.start()\n",
    "thread.join()"
   ]
  },
  {
   "cell_type": "markdown",
   "metadata": {},
   "source": [
    "***\n",
    "# Share information\n",
    "***"
   ]
  },
  {
   "cell_type": "code",
   "execution_count": 46,
   "metadata": {},
   "outputs": [
    {
     "name": "stdout",
     "output_type": "stream",
     "text": [
      "0\n",
      "1\n",
      "2\n",
      "3\n",
      "4\n",
      "5\n",
      "6\n",
      "7\n",
      "8\n",
      "9\n",
      "Error ()\n"
     ]
    }
   ],
   "source": [
    "import queue\n",
    "\n",
    "queue = queue.Queue()\n",
    "\n",
    "class MyThread(threading.Thread):\n",
    "    \n",
    "    def __init__(self, queue):\n",
    "        threading.Thread.__init__(self)\n",
    "        self.queue = queue\n",
    "        \n",
    "    def run(self):\n",
    "        while True:\n",
    "            try:\n",
    "                object = queue.get(False)\n",
    "            except Exception as e:\n",
    "                print(f'Error {e.args}')\n",
    "                break\n",
    "            print(object)\n",
    "\n",
    "\n",
    "for i in range(10):\n",
    "    queue.put(i)\n",
    "    \n",
    "thread = MyThread(queue)\n",
    "thread.start()\n",
    "thread.join()"
   ]
  }
 ],
 "metadata": {
  "kernelspec": {
   "display_name": "Python 3",
   "language": "python",
   "name": "python3"
  },
  "language_info": {
   "codemirror_mode": {
    "name": "ipython",
    "version": 3
   },
   "file_extension": ".py",
   "mimetype": "text/x-python",
   "name": "python",
   "nbconvert_exporter": "python",
   "pygments_lexer": "ipython3",
   "version": "3.7.1"
  }
 },
 "nbformat": 4,
 "nbformat_minor": 2
}
