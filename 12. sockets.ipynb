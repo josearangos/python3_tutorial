{
 "cells": [
  {
   "cell_type": "markdown",
   "metadata": {},
   "source": [
    "***\n",
    "# Socket server\n",
    "***"
   ]
  },
  {
   "cell_type": "code",
   "execution_count": null,
   "metadata": {},
   "outputs": [],
   "source": [
    "import socket\n",
    "\n",
    "socket_instance = socket.socket()\n",
    "socket_instance.bind(('localhost', 9999))\n",
    "socket_instance.listen(1)\n",
    "\n",
    "socket_connection, address = socket_instance.accept()\n",
    "\n",
    "while True:\n",
    "    message = socket_connection.recv(1024)\n",
    "    if message == 'quit':\n",
    "        break\n",
    "    print(f'message: {message}')\n",
    "    socket_connection.send(message)\n",
    "\n",
    "socket_connection.close()\n",
    "socket_instance.close()\n",
    "\n",
    "print('bye')"
   ]
  },
  {
   "cell_type": "markdown",
   "metadata": {},
   "source": [
    "***\n",
    "# Socket client\n",
    "***"
   ]
  },
  {
   "cell_type": "code",
   "execution_count": null,
   "metadata": {},
   "outputs": [],
   "source": [
    "import socket\n",
    "\n",
    "socket_instance = socket.socket()\n",
    "socket_instance.connect(('localhost', 9999))\n",
    "\n",
    "while True:\n",
    "    message = input('> ')\n",
    "    socket_instance.send(message)\n",
    "    if message == 'quit':\n",
    "        break\n",
    "    \n",
    "socket_instance.close()\n",
    "\n",
    "print('bye')"
   ]
  }
 ],
 "metadata": {
  "kernelspec": {
   "display_name": "Python 3",
   "language": "python",
   "name": "python3"
  },
  "language_info": {
   "codemirror_mode": {
    "name": "ipython",
    "version": 3
   },
   "file_extension": ".py",
   "mimetype": "text/x-python",
   "name": "python",
   "nbconvert_exporter": "python",
   "pygments_lexer": "ipython3",
   "version": "3.7.1"
  }
 },
 "nbformat": 4,
 "nbformat_minor": 2
}
