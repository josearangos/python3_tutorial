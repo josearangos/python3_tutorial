{
 "cells": [
  {
   "cell_type": "markdown",
   "metadata": {},
   "source": [
    "***\n",
    "# Standart Input\n",
    "***"
   ]
  },
  {
   "cell_type": "code",
   "execution_count": 1,
   "metadata": {},
   "outputs": [
    {
     "name": "stdout",
     "output_type": "stream",
     "text": [
      "Enter your name: Juan David\n",
      "Welcome Juan David\n"
     ]
    }
   ],
   "source": [
    "name = input('Enter your name: ')\n",
    "print(f'Welcome {name}')"
   ]
  },
  {
   "cell_type": "code",
   "execution_count": 5,
   "metadata": {},
   "outputs": [
    {
     "name": "stdout",
     "output_type": "stream",
     "text": [
      "Enter your age: 22\n",
      "Juan David have 22 years old\n",
      "Juan David has lived 8030 days\n"
     ]
    }
   ],
   "source": [
    "try: \n",
    "    age = int(input('Enter your age: '))\n",
    "    print(f'{name} have {age} years old')\n",
    "    print(f'{name} has lived {age * 365} days')\n",
    "except Exception as e:\n",
    "    print(f'Opps {e}')"
   ]
  },
  {
   "cell_type": "markdown",
   "metadata": {},
   "source": [
    "***\n",
    "# Comand Line parameters\n",
    "***"
   ]
  },
  {
   "cell_type": "code",
   "execution_count": 6,
   "metadata": {},
   "outputs": [],
   "source": [
    "import sys"
   ]
  },
  {
   "cell_type": "code",
   "execution_count": 7,
   "metadata": {},
   "outputs": [
    {
     "name": "stdout",
     "output_type": "stream",
     "text": [
      "/usr/lib/python3.7/site-packages/ipykernel_launcher.py\n",
      "-f\n",
      "/run/user/1000/jupyter/kernel-512e9016-c102-4215-a149-1ca08e21b997.json\n"
     ]
    }
   ],
   "source": [
    "if len(sys.argv) > 1:\n",
    "    for arg in sys.argv:\n",
    "        print(arg)\n",
    "else:\n",
    "    print('No comand line params')"
   ]
  },
  {
   "cell_type": "code",
   "execution_count": 9,
   "metadata": {},
   "outputs": [],
   "source": [
    "def print_filename_from_comand_line_param():\n",
    "    if len(sys.argv) > 1:\n",
    "        print(f'Filename {sys.argv[1]}')\n",
    "    else:\n",
    "        print('No file')"
   ]
  },
  {
   "cell_type": "markdown",
   "metadata": {},
   "source": [
    "***\n",
    "# Standart Output\n",
    "***"
   ]
  },
  {
   "cell_type": "code",
   "execution_count": 10,
   "metadata": {},
   "outputs": [
    {
     "name": "stdout",
     "output_type": "stream",
     "text": [
      "Hello World\n"
     ]
    }
   ],
   "source": [
    "print('Hello World')"
   ]
  },
  {
   "cell_type": "code",
   "execution_count": 12,
   "metadata": {},
   "outputs": [
    {
     "name": "stdout",
     "output_type": "stream",
     "text": [
      "Hello \n",
      "\n",
      "World \t My name is Juan\n"
     ]
    }
   ],
   "source": [
    "print('Hello \\n\\nWorld \\t My name is Juan')"
   ]
  },
  {
   "cell_type": "code",
   "execution_count": 17,
   "metadata": {},
   "outputs": [
    {
     "name": "stdout",
     "output_type": "stream",
     "text": [
      "0\n",
      "1\n",
      "2\n",
      "3\n",
      "4\n"
     ]
    }
   ],
   "source": [
    "for number in range(5):\n",
    "    print(number)"
   ]
  },
  {
   "cell_type": "code",
   "execution_count": 20,
   "metadata": {},
   "outputs": [
    {
     "name": "stdout",
     "output_type": "stream",
     "text": [
      "Hello Juan David, you have 22 years old\n"
     ]
    }
   ],
   "source": [
    "print('Hello %s, you have %d years old' % ('Juan David', 22))"
   ]
  },
  {
   "cell_type": "code",
   "execution_count": 27,
   "metadata": {},
   "outputs": [
    {
     "name": "stdout",
     "output_type": "stream",
     "text": [
      "3.1416\n"
     ]
    }
   ],
   "source": [
    "import math\n",
    "print('%.4f' % math.pi)"
   ]
  },
  {
   "cell_type": "code",
   "execution_count": 43,
   "metadata": {},
   "outputs": [
    {
     "name": "stdout",
     "output_type": "stream",
     "text": [
      "              Juan David Arias    22       male\n",
      "        Alejandro Sánchez Yalí    32       male\n",
      "                Mauricio Villa    30       male\n",
      "             Luis Felipe Henao    25       male\n"
     ]
    }
   ],
   "source": [
    "users = [\n",
    "    {'name': 'Juan David Arias', 'age': 22, 'sex': 'male'},\n",
    "    {'name': 'Alejandro Sánchez Yalí', 'age': 32, 'sex': 'male'},\n",
    "    {'name': 'Mauricio Villa', 'age': 30, 'sex': 'male'},\n",
    "    {'name': 'Luis Felipe Henao', 'age': 25, 'sex': 'male'}\n",
    "]\n",
    "\n",
    "for user in users:\n",
    "    print('%30s %5d %10s' % (user.get('name'), user.get('age'), user.get('sex')))"
   ]
  },
  {
   "cell_type": "code",
   "execution_count": null,
   "metadata": {},
   "outputs": [],
   "source": []
  }
 ],
 "metadata": {
  "kernelspec": {
   "display_name": "Python 3",
   "language": "python",
   "name": "python3"
  },
  "language_info": {
   "codemirror_mode": {
    "name": "ipython",
    "version": 3
   },
   "file_extension": ".py",
   "mimetype": "text/x-python",
   "name": "python",
   "nbconvert_exporter": "python",
   "pygments_lexer": "ipython3",
   "version": "3.7.1"
  }
 },
 "nbformat": 4,
 "nbformat_minor": 2
}
