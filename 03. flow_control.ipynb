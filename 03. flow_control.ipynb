{
 "cells": [
  {
   "cell_type": "markdown",
   "metadata": {},
   "source": [
    "# Conditional Sentences"
   ]
  },
  {
   "cell_type": "code",
   "execution_count": 1,
   "metadata": {},
   "outputs": [
    {
     "name": "stdout",
     "output_type": "stream",
     "text": [
      "Type a number ==> 4\n",
      "The number is even!\n",
      "Thanks!\n"
     ]
    }
   ],
   "source": [
    "number = int(input(\"Type a number ==> \"))\n",
    "if number %2 == 0:\n",
    "    print(\"The number is even!\")\n",
    "print(\"Thanks!\")"
   ]
  },
  {
   "cell_type": "code",
   "execution_count": 2,
   "metadata": {},
   "outputs": [
    {
     "name": "stdout",
     "output_type": "stream",
     "text": [
      "Type a numnber ==> 3\n",
      "The number is odd\n"
     ]
    }
   ],
   "source": [
    "number = int(input(\"Type a numnber ==> \"))\n",
    "if number %2 == 0:\n",
    "    print(\"The number is even\")\n",
    "else:\n",
    "    print(\"The number is odd\")"
   ]
  },
  {
   "cell_type": "code",
   "execution_count": 3,
   "metadata": {},
   "outputs": [
    {
     "name": "stdout",
     "output_type": "stream",
     "text": [
      "Type a number ==> -10\n",
      "The number is negative\n"
     ]
    }
   ],
   "source": [
    "number = int(input(\"Type a number ==> \"))\n",
    "if number < 0:\n",
    "    print(\"The number is negative\")\n",
    "elif number > 0:\n",
    "    print(\"The number is positive\")\n",
    "else:\n",
    "    print(\"The number is zero\")"
   ]
  },
  {
   "cell_type": "code",
   "execution_count": 5,
   "metadata": {},
   "outputs": [
    {
     "name": "stdout",
     "output_type": "stream",
     "text": [
      "Type a number ==> 7\n",
      "odd\n"
     ]
    }
   ],
   "source": [
    "number = int(input(\"Type a number ==> \"))\n",
    "ispar = \"even\" if number %2 == 0 else \"odd\"\n",
    "print(ispar)"
   ]
  },
  {
   "cell_type": "markdown",
   "metadata": {},
   "source": [
    "# Loops"
   ]
  },
  {
   "cell_type": "code",
   "execution_count": 6,
   "metadata": {},
   "outputs": [
    {
     "name": "stdout",
     "output_type": "stream",
     "text": [
      "Congratulations, you have 0 years\n",
      "Congratulations, you have 1 years\n",
      "Congratulations, you have 2 years\n",
      "Congratulations, you have 3 years\n",
      "Congratulations, you have 4 years\n",
      "Congratulations, you have 5 years\n",
      "Congratulations, you have 6 years\n",
      "Congratulations, you have 7 years\n",
      "Congratulations, you have 8 years\n",
      "Congratulations, you have 9 years\n",
      "Congratulations, you have 10 years\n",
      "Congratulations, you have 11 years\n",
      "Congratulations, you have 12 years\n",
      "Congratulations, you have 13 years\n",
      "Congratulations, you have 14 years\n",
      "Congratulations, you have 15 years\n",
      "Congratulations, you have 16 years\n",
      "Congratulations, you have 17 years\n"
     ]
    }
   ],
   "source": [
    "age = 0\n",
    "while age < 18:\n",
    "    print(\"Congratulations, you have {} years\".format(age))\n",
    "    age += 1"
   ]
  },
  {
   "cell_type": "code",
   "execution_count": 7,
   "metadata": {},
   "outputs": [
    {
     "name": "stdout",
     "output_type": "stream",
     "text": [
      ">>> Hello\n",
      "Hello\n",
      ">>> way\n",
      "way\n",
      ">>> bye\n"
     ]
    }
   ],
   "source": [
    "exit = False\n",
    "while not exit:\n",
    "    data = input(\">>> \")\n",
    "    if data == \"bye\":\n",
    "        exit = True\n",
    "    else:\n",
    "        print(data)"
   ]
  },
  {
   "cell_type": "code",
   "execution_count": 8,
   "metadata": {},
   "outputs": [
    {
     "name": "stdout",
     "output_type": "stream",
     "text": [
      ">>> Hello\n",
      "Hello\n",
      ">>> bye\n"
     ]
    }
   ],
   "source": [
    "while True:\n",
    "    data = input(\">>> \")\n",
    "    if data == \"bye\":\n",
    "        break\n",
    "    else:\n",
    "        print(data)"
   ]
  },
  {
   "cell_type": "code",
   "execution_count": 9,
   "metadata": {},
   "outputs": [
    {
     "name": "stdout",
     "output_type": "stream",
     "text": [
      "The odd number is 1\n",
      "The odd number is 3\n",
      "The odd number is 5\n",
      "The odd number is 7\n",
      "The odd number is 9\n",
      "The odd number is 11\n",
      "The odd number is 13\n",
      "The odd number is 15\n",
      "The odd number is 17\n",
      "The odd number is 19\n"
     ]
    }
   ],
   "source": [
    "number = 0\n",
    "while number < 20:\n",
    "    number += 1\n",
    "    if number %2 == 0:\n",
    "        continue\n",
    "    print(\"The odd number is {}\". format(number))"
   ]
  },
  {
   "cell_type": "code",
   "execution_count": 22,
   "metadata": {},
   "outputs": [
    {
     "name": "stdout",
     "output_type": "stream",
     "text": [
      "1 ==> one\n",
      "2 ==> Two\n",
      "3 ==> Three\n",
      "4 ==> Four\n",
      "5 ==> Five\n"
     ]
    }
   ],
   "source": [
    "numbers = [\"one\", \"Two\", \"Three\", \"Four\", \"Five\"]\n",
    "for index, number in enumerate(numbers):\n",
    "    print(str(index + 1) + \" ==> \" + number)"
   ]
  },
  {
   "cell_type": "code",
   "execution_count": 14,
   "metadata": {
    "scrolled": true
   },
   "outputs": [
    {
     "name": "stdout",
     "output_type": "stream",
     "text": [
      "1\n",
      "2\n",
      "3\n",
      "4\n",
      "5\n"
     ]
    }
   ],
   "source": [
    "for i in range(1, 6):\n",
    "    print(i)            "
   ]
  },
  {
   "cell_type": "code",
   "execution_count": null,
   "metadata": {},
   "outputs": [],
   "source": []
  }
 ],
 "metadata": {
  "kernelspec": {
   "display_name": "Python 3",
   "language": "python",
   "name": "python3"
  },
  "language_info": {
   "codemirror_mode": {
    "name": "ipython",
    "version": 3
   },
   "file_extension": ".py",
   "mimetype": "text/x-python",
   "name": "python",
   "nbconvert_exporter": "python",
   "pygments_lexer": "ipython3",
   "version": "3.5.2"
  }
 },
 "nbformat": 4,
 "nbformat_minor": 2
}
