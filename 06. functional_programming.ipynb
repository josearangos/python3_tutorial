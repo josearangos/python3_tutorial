{
 "cells": [
  {
   "cell_type": "markdown",
   "metadata": {},
   "source": [
    "***\n",
    "# Higher order functions\n",
    "***"
   ]
  },
  {
   "cell_type": "code",
   "execution_count": 10,
   "metadata": {},
   "outputs": [],
   "source": [
    "def calculate(operation):\n",
    "    \n",
    "    def calculate_add(a, b):\n",
    "        return a + b\n",
    "    \n",
    "    def calculate_substract(a, b):\n",
    "        return a - b\n",
    "    \n",
    "    def calculate_multiply(a, b):\n",
    "        return a * b\n",
    "    \n",
    "    def calculate_divide(a, b):\n",
    "        return a // b\n",
    "    \n",
    "    calculate_func = {\n",
    "        'a': calculate_add,\n",
    "        's': calculate_substract,\n",
    "        'm': calculate_multiply,\n",
    "        'd': calculate_divide\n",
    "    }\n",
    "    \n",
    "    return calculate_func[operation]"
   ]
  },
  {
   "cell_type": "code",
   "execution_count": 11,
   "metadata": {},
   "outputs": [
    {
     "data": {
      "text/plain": [
       "-2"
      ]
     },
     "execution_count": 11,
     "metadata": {},
     "output_type": "execute_result"
    }
   ],
   "source": [
    "calculate('s')(10, 12)"
   ]
  },
  {
   "cell_type": "code",
   "execution_count": 12,
   "metadata": {},
   "outputs": [
    {
     "data": {
      "text/plain": [
       "2"
      ]
     },
     "execution_count": 12,
     "metadata": {},
     "output_type": "execute_result"
    }
   ],
   "source": [
    "calculate('d')(129, 56)"
   ]
  },
  {
   "cell_type": "markdown",
   "metadata": {},
   "source": [
    "***\n",
    "# Map function \n",
    "***"
   ]
  },
  {
   "cell_type": "code",
   "execution_count": 13,
   "metadata": {},
   "outputs": [
    {
     "name": "stdout",
     "output_type": "stream",
     "text": [
      "[1, 2, 3, 4, 5, 6, 7, 8, 9]\n",
      "[1, 4, 9, 16, 25, 36, 49, 64, 81]\n",
      "[1, 8, 27, 64, 125, 216, 343, 512, 729]\n",
      "[1, 16, 81, 256, 625, 1296, 2401, 4096, 6561]\n",
      "[1, 32, 243, 1024, 3125, 7776, 16807, 32768, 59049]\n"
     ]
    }
   ],
   "source": [
    "def pow_2(item):\n",
    "    return item ** 2\n",
    "\n",
    "def pow_3(item):\n",
    "    return item ** 3\n",
    "\n",
    "def pow_4(item):\n",
    "    return item ** 4\n",
    "\n",
    "def pow_5(item):\n",
    "    return item ** 5\n",
    "\n",
    "array = [1, 2, 3, 4, 5, 6, 7, 8, 9]\n",
    "\n",
    "array_2 = map(pow_2, array)\n",
    "array_3 = map(pow_3, array)\n",
    "array_4 = map(pow_4, array)\n",
    "array_5 = map(pow_5, array)\n",
    "\n",
    "print(array)\n",
    "\n",
    "print(list(array_2))\n",
    "print(list(array_3))\n",
    "print(list(array_4))\n",
    "print(list(array_5))"
   ]
  },
  {
   "cell_type": "markdown",
   "metadata": {},
   "source": [
    "***\n",
    "# Filter function\n",
    "*** "
   ]
  },
  {
   "cell_type": "code",
   "execution_count": 14,
   "metadata": {},
   "outputs": [
    {
     "name": "stdout",
     "output_type": "stream",
     "text": [
      "[0, 2, 4, 6, 8, 10, 12, 14, 16, 18, 20]\n",
      "[1, 3, 5, 7, 9, 11, 13, 15, 17, 19]\n"
     ]
    }
   ],
   "source": [
    "def even_number(number):\n",
    "    return number % 2 == 0\n",
    "\n",
    "def odd_number(number):\n",
    "    return number % 2 != 0\n",
    "\n",
    "array = [\n",
    "    0, 1, 2, 3, 4, 5, 6, 7, 8, 9, 10,\n",
    "    11, 12, 13, 14, 15, 16, 17, 18, 19, 20\n",
    "]\n",
    "\n",
    "even_numbers = filter(even_number, array)\n",
    "odd_numbers = filter(odd_number, array)\n",
    "\n",
    "print(list(even_numbers))\n",
    "print(list(odd_numbers))"
   ]
  },
  {
   "cell_type": "markdown",
   "metadata": {},
   "source": [
    "***\n",
    "# Reduce\n",
    "***"
   ]
  },
  {
   "cell_type": "code",
   "execution_count": 15,
   "metadata": {},
   "outputs": [
    {
     "name": "stdout",
     "output_type": "stream",
     "text": [
      "[1, 2, 3, 4, 5, 6, 7, 8, 9]\n",
      "45\n",
      "362880\n"
     ]
    }
   ],
   "source": [
    "from functools import reduce\n",
    "\n",
    "def add(x, y):\n",
    "    return x + y\n",
    "\n",
    "def multiply(x, y):\n",
    "    return x * y\n",
    "\n",
    "array = [1, 2, 3, 4, 5, 6, 7, 8, 9]\n",
    "\n",
    "result_add = reduce(add, array)\n",
    "result_mul = reduce(multiply, array)\n",
    "\n",
    "print(array)\n",
    "\n",
    "print(result_add)\n",
    "print(result_mul)"
   ]
  },
  {
   "cell_type": "markdown",
   "metadata": {},
   "source": [
    "***\n",
    "# Lambda functions\n",
    "***"
   ]
  },
  {
   "cell_type": "code",
   "execution_count": 29,
   "metadata": {},
   "outputs": [
    {
     "name": "stdout",
     "output_type": "stream",
     "text": [
      "25\n",
      "15\n",
      "100\n",
      "4.0\n"
     ]
    }
   ],
   "source": [
    "add = lambda num1, num2: num1 + num2\n",
    "sub = lambda num1, num2: num1 - num2\n",
    "mul = lambda num1, num2: num1 * num2\n",
    "div = lambda num1, num2: num1 / num2\n",
    "\n",
    "num1 = 20\n",
    "num2 = 5\n",
    "\n",
    "print(add(num1, num2))\n",
    "print(sub(num1, num2))\n",
    "print(mul(num1, num2))\n",
    "print(div(num1, num2))"
   ]
  },
  {
   "cell_type": "code",
   "execution_count": 16,
   "metadata": {},
   "outputs": [
    {
     "name": "stdout",
     "output_type": "stream",
     "text": [
      "[0, 1, 2, 3, 4, 5, 6, 7, 8, 9, 10, 11, 12, 13, 14, 15, 16, 17, 18, 19, 20]\n",
      "[0, 2, 4, 6, 8, 10, 12, 14, 16, 18, 20]\n",
      "[1, 3, 5, 7, 9, 11, 13, 15, 17, 19]\n"
     ]
    }
   ],
   "source": [
    "array = [\n",
    "    0, 1, 2, 3, 4, 5, 6, 7, 8, 9, 10,\n",
    "    11, 12, 13, 14, 15, 16, 17, 18, 19, 20\n",
    "]\n",
    "\n",
    "even_numbers = filter(lambda number: number % 2 == 0, array)\n",
    "odd_numbers = filter(lambda number: number % 2 != 0, array)\n",
    "\n",
    "print(array)\n",
    "print(list(even_numbers))\n",
    "print(list(odd_numbers))"
   ]
  },
  {
   "cell_type": "markdown",
   "metadata": {},
   "source": [
    "***\n",
    "# List comprehensions\n",
    "***"
   ]
  },
  {
   "cell_type": "code",
   "execution_count": 17,
   "metadata": {},
   "outputs": [
    {
     "name": "stdout",
     "output_type": "stream",
     "text": [
      "[0, 1, 2, 3, 4, 5, 6, 7, 8, 9, 10, 11, 12, 13, 14, 15, 16, 17, 18, 19, 20]\n",
      "[0, 2, 4, 6, 8, 10, 12, 14, 16, 18, 20]\n",
      "[1, 3, 5, 7, 9, 11, 13, 15, 17, 19]\n",
      "[0, 1, 4, 9, 16, 25, 36, 49, 64, 81, 100, 121, 144, 169, 196, 225, 256, 289, 324, 361, 400]\n",
      "\n",
      "\n",
      "[0, 1, 2, 3, 4]\n",
      "[0, 5, 6, 7, 8]\n",
      "[5, 6, 7, 8, 10, 12, 14, 16, 15, 18, 21, 24, 20, 24, 28, 32]\n"
     ]
    }
   ],
   "source": [
    "array = [\n",
    "    0, 1, 2, 3, 4, 5, 6, 7, 8, 9, 10,\n",
    "    11, 12, 13, 14, 15, 16, 17, 18, 19, 20\n",
    "]\n",
    "\n",
    "array_1 = [0, 1, 2, 3, 4]\n",
    "array_2 = [0, 5, 6, 7, 8]\n",
    "\n",
    "even_numbers = [number for number in array if number % 2 == 0]\n",
    "odd_numbers = [number for number in array if number % 2 != 0]\n",
    "\n",
    "pow2_numbers = [number ** 2 for number in array]\n",
    "\n",
    "\n",
    "multiply = [a * b for a in array_1 for b in array_2 if a and b is not 0]\n",
    "\n",
    "print(array)\n",
    "print(even_numbers)\n",
    "print(odd_numbers)\n",
    "print(pow2_numbers)\n",
    "\n",
    "print()\n",
    "print()\n",
    "\n",
    "print(array_1)\n",
    "print(array_2)\n",
    "print(multiply)\n"
   ]
  },
  {
   "cell_type": "code",
   "execution_count": 18,
   "metadata": {},
   "outputs": [
    {
     "data": {
      "text/plain": [
       "[42, 44, 46, 48]"
      ]
     },
     "execution_count": 18,
     "metadata": {},
     "output_type": "execute_result"
    }
   ],
   "source": [
    "array = [number for number in range(1, 100) if number % 2 == 0 and number < 50 and number > 40]\n",
    "array"
   ]
  },
  {
   "cell_type": "markdown",
   "metadata": {},
   "source": [
    "***\n",
    "# Generadores\n",
    "***"
   ]
  },
  {
   "cell_type": "code",
   "execution_count": 19,
   "metadata": {},
   "outputs": [
    {
     "name": "stdout",
     "output_type": "stream",
     "text": [
      "[0, 2, 4, 6, 8, 10, 12, 14, 16, 18, 20]\n",
      "[1, 3, 5, 7, 9, 11, 13, 15, 17, 19]\n"
     ]
    }
   ],
   "source": [
    "array = [\n",
    "    0, 1, 2, 3, 4, 5, 6, 7, 8, 9, 10,\n",
    "    11, 12, 13, 14, 15, 16, 17, 18, 19, 20\n",
    "]\n",
    "\n",
    "even_numbers = (number for number in array if number % 2 == 0)\n",
    "odd_numbers = (number for number in array if number % 2 != 0)\n",
    "\n",
    "print(list(even_numbers))\n",
    "print(list(odd_numbers))"
   ]
  },
  {
   "cell_type": "markdown",
   "metadata": {},
   "source": [
    "***\n",
    "# Decoradores \n",
    "***"
   ]
  },
  {
   "cell_type": "code",
   "execution_count": 27,
   "metadata": {},
   "outputs": [
    {
     "name": "stdout",
     "output_type": "stream",
     "text": [
      "Start execution\n",
      "30\n",
      "End execution\n"
     ]
    }
   ],
   "source": [
    "def decorator(function):\n",
    "    def show_execution_steps(*args, **kwargs):\n",
    "        print('Start execution')\n",
    "        function(*args, **kwargs)\n",
    "        print('End execution')\n",
    "    \n",
    "    return show_execution_steps\n",
    "\n",
    "@decorator\n",
    "def sumar(num1, num2):\n",
    "    print(num1 + num2)\n",
    "    \n",
    "sumar(10, 20)    "
   ]
  },
  {
   "cell_type": "code",
   "execution_count": 26,
   "metadata": {},
   "outputs": [
    {
     "name": "stdout",
     "output_type": "stream",
     "text": [
      "Start execution\n",
      "1215\n",
      "End execution\n"
     ]
    }
   ],
   "source": [
    "def decorator(valid=True):\n",
    "    \n",
    "    def _decorator(function):\n",
    "    \n",
    "        def before_execution():\n",
    "            print('Start execution')\n",
    "\n",
    "        def after_execution():\n",
    "            print('End execution')\n",
    "\n",
    "        def show_execution_steps(*args, **kwargs):\n",
    "            if valid:\n",
    "                before_execution()\n",
    "                function(*args, **kwargs)\n",
    "                after_execution()\n",
    "                return result\n",
    "            else:\n",
    "                return None\n",
    "    \n",
    "        return show_execution_steps\n",
    "\n",
    "    return _decorator\n",
    "\n",
    "@decorator(True)\n",
    "def sumar(num1, num2):\n",
    "    print(num1 + num2)\n",
    "\n",
    "sumar(237, 978)\n"
   ]
  },
  {
   "cell_type": "code",
   "execution_count": null,
   "metadata": {},
   "outputs": [],
   "source": []
  }
 ],
 "metadata": {
  "kernelspec": {
   "display_name": "Python 3",
   "language": "python",
   "name": "python3"
  },
  "language_info": {
   "codemirror_mode": {
    "name": "ipython",
    "version": 3
   },
   "file_extension": ".py",
   "mimetype": "text/x-python",
   "name": "python",
   "nbconvert_exporter": "python",
   "pygments_lexer": "ipython3",
   "version": "3.5.2"
  }
 },
 "nbformat": 4,
 "nbformat_minor": 2
}
