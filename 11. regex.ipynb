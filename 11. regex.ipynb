{
 "cells": [
  {
   "cell_type": "markdown",
   "metadata": {},
   "source": [
    "***\n",
    "# Regular Expressions\n",
    "***"
   ]
  },
  {
   "cell_type": "code",
   "execution_count": 2,
   "metadata": {},
   "outputs": [],
   "source": [
    "import re"
   ]
  },
  {
   "cell_type": "code",
   "execution_count": 6,
   "metadata": {},
   "outputs": [
    {
     "name": "stdout",
     "output_type": "stream",
     "text": [
      "Equals expresions\n"
     ]
    }
   ],
   "source": [
    "# Match only a word\n",
    "# Accept python expression\n",
    "\n",
    "result = re.match('python', 'python')\n",
    "\n",
    "print('Equals expresions') if result else print('Diferents expresions')"
   ]
  },
  {
   "cell_type": "code",
   "execution_count": 7,
   "metadata": {},
   "outputs": [
    {
     "name": "stdout",
     "output_type": "stream",
     "text": [
      "> cython\n",
      "Match\n"
     ]
    }
   ],
   "source": [
    "# Match a character in an expression\n",
    "# Accept a character followed by ython expression\n",
    "\n",
    "user_text = input('> ')\n",
    "result = re.match('.ython', user_text)\n",
    "\n",
    "print('Match') if result else print('Not match')"
   ]
  },
  {
   "cell_type": "code",
   "execution_count": 11,
   "metadata": {},
   "outputs": [
    {
     "name": "stdout",
     "output_type": "stream",
     "text": [
      "<re.Match object; span=(0, 4), match='abc.'>\n"
     ]
    }
   ],
   "source": [
    "# Scape the . character \n",
    "# Accept three characters or digits followed by .\n",
    "\n",
    "result = re.match('...\\.', 'abc.')\n",
    "\n",
    "print(result)"
   ]
  },
  {
   "cell_type": "code",
   "execution_count": 10,
   "metadata": {},
   "outputs": [
    {
     "name": "stdout",
     "output_type": "stream",
     "text": [
      "> python\n",
      "Option a: <re.Match object; span=(0, 6), match='python'>\n",
      "Option b: <re.Match object; span=(0, 6), match='python'>\n",
      "Option c: <re.Match object; span=(0, 6), match='python'>\n"
     ]
    }
   ],
   "source": [
    "# Multiple strings, groups and classes\n",
    "# Accept expressions: python, cython, jython \n",
    "\n",
    "user_text = input('> ')\n",
    "\n",
    "option_a = re.match('python|cython|jython', user_text)\n",
    "option_b = re.match('(p|c|j)ython', user_text)\n",
    "option_c = re.match('[pcj]ython', user_text) \n",
    "\n",
    "print(f'Option a: {option_a}')\n",
    "print(f'Option b: {option_b}')\n",
    "print(f'Option c: {option_c}')"
   ]
  },
  {
   "cell_type": "code",
   "execution_count": 12,
   "metadata": {},
   "outputs": [
    {
     "name": "stdout",
     "output_type": "stream",
     "text": [
      "> python3\n",
      "<re.Match object; span=(0, 7), match='python3'>\n"
     ]
    }
   ],
   "source": [
    "# Number range\n",
    "# Accept expression python followed by a number\n",
    "\n",
    "user_text = input('> ')\n",
    "\n",
    "result = re.match('python[0-9]', user_text)\n",
    "\n",
    "print(result)"
   ]
  },
  {
   "cell_type": "code",
   "execution_count": 18,
   "metadata": {},
   "outputs": [
    {
     "name": "stdout",
     "output_type": "stream",
     "text": [
      "> Python2\n",
      "<re.Match object; span=(0, 7), match='Python2'>\n"
     ]
    }
   ],
   "source": [
    "# Lower upper case example\n",
    "# Accept expression wich start with P or p and ends with a digit\n",
    "# Examples: Python1, python2\n",
    "\n",
    "user_text = input('> ')\n",
    "\n",
    "result = re.match('(P|p)ython[0-9]', user_text)\n",
    "\n",
    "print(result)"
   ]
  },
  {
   "cell_type": "code",
   "execution_count": 23,
   "metadata": {},
   "outputs": [
    {
     "name": "stdout",
     "output_type": "stream",
     "text": [
      "> python*\n",
      "<re.Match object; span=(0, 7), match='python*'>\n"
     ]
    }
   ],
   "source": [
    "# Negation \n",
    "# Accept expressions wich start with P or p and ends with \n",
    "# something diferent to an alphanumeric character \n",
    "# Examples: Python_, python*, python+\n",
    "\n",
    "user_text = input('> ')\n",
    "\n",
    "result = re.match('(P|p)ython[^0-9a-zA-Z]', user_text)\n",
    "\n",
    "print(result)"
   ]
  },
  {
   "cell_type": "code",
   "execution_count": 66,
   "metadata": {},
   "outputs": [
    {
     "name": "stdout",
     "output_type": "stream",
     "text": [
      "<re.Match object; span=(0, 23), match='juan.arias8@udea.edu.co'>\n"
     ]
    }
   ],
   "source": [
    "# Example 1\n",
    "# Accept emails with @udea.edu.co domain\n",
    "\n",
    "email = re.match('[\\w.]+(@udea.edu.co)', 'juan.arias8@udea.edu.co')\n",
    "\n",
    "print(email)"
   ]
  },
  {
   "cell_type": "markdown",
   "metadata": {},
   "source": [
    "***\n",
    "# Equivalent expressions\n",
    "***\n",
    "\n",
    "* \\d --> [0-9] \n",
    "* \\D --> [^0-9]\n",
    "* \\w --> [a-zA-Z0-9_]\n",
    "* \\W --> [^a-zA-Z0-9_]\n",
    "* \\s --> [ \\t\\n\\r\\f\\v]\n",
    "* \\S --> [^ \\t\\n\\r\\f\\v]"
   ]
  },
  {
   "cell_type": "code",
   "execution_count": 13,
   "metadata": {},
   "outputs": [
    {
     "name": "stdout",
     "output_type": "stream",
     "text": [
      "None\n",
      "<re.Match object; span=(0, 3), match='1 d'>\n"
     ]
    }
   ],
   "source": [
    "# Ejemplos\n",
    "\n",
    "print(re.match('\\d\\s\\w', '1d'))\n",
    "print(re.match('\\d\\s\\w', '1 d'))"
   ]
  },
  {
   "cell_type": "markdown",
   "metadata": {},
   "source": [
    "***\n",
    "# Character repetition\n",
    "***"
   ]
  },
  {
   "cell_type": "code",
   "execution_count": 10,
   "metadata": {},
   "outputs": [
    {
     "name": "stdout",
     "output_type": "stream",
     "text": [
      "None\n",
      "<re.Match object; span=(0, 6), match='python'>\n",
      "<re.Match object; span=(0, 7), match='pythonn'>\n"
     ]
    }
   ],
   "source": [
    "# Character repeat for one or more time\n",
    "\n",
    "print(re.match('python+', 'pytho'))\n",
    "print(re.match('python+', 'python'))\n",
    "print(re.match('python+', 'pythonn'))"
   ]
  },
  {
   "cell_type": "code",
   "execution_count": 9,
   "metadata": {},
   "outputs": [
    {
     "name": "stdout",
     "output_type": "stream",
     "text": [
      "<re.Match object; span=(0, 5), match='pytho'>\n",
      "<re.Match object; span=(0, 6), match='python'>\n",
      "<re.Match object; span=(0, 7), match='pythonn'>\n"
     ]
    }
   ],
   "source": [
    "# Character appear zero, one or more times\n",
    "\n",
    "print(re.match('python*', 'pytho'))\n",
    "print(re.match('python*', 'python'))\n",
    "print(re.match('python*', 'pythonn'))"
   ]
  },
  {
   "cell_type": "code",
   "execution_count": 14,
   "metadata": {},
   "outputs": [
    {
     "name": "stdout",
     "output_type": "stream",
     "text": [
      "<re.Match object; span=(0, 5), match='pytho'>\n",
      "<re.Match object; span=(0, 6), match='python'>\n"
     ]
    }
   ],
   "source": [
    "# Character appear or not\n",
    "\n",
    "print(re.match('python?', 'pytho'))\n",
    "print(re.match('python?', 'python'))"
   ]
  },
  {
   "cell_type": "code",
   "execution_count": 27,
   "metadata": {},
   "outputs": [
    {
     "name": "stdout",
     "output_type": "stream",
     "text": [
      "<re.Match object; span=(0, 9), match='python123'>\n",
      "<re.Match object; span=(0, 14), match='python3python3'>\n"
     ]
    }
   ],
   "source": [
    "# Repeat for n times\n",
    "\n",
    "print(re.match('python[\\d]{3}', 'python123'))\n",
    "print(re.match('(python3){2}', 'python3python3'))"
   ]
  },
  {
   "cell_type": "markdown",
   "metadata": {},
   "source": [
    "*** \n",
    "# Groups\n",
    "***"
   ]
  },
  {
   "cell_type": "code",
   "execution_count": 38,
   "metadata": {},
   "outputs": [
    {
     "name": "stdout",
     "output_type": "stream",
     "text": [
      "http://jndavid.net\n"
     ]
    }
   ],
   "source": [
    "# Example 1\n",
    "\n",
    "result = re.match('http://(.+)net', 'http://jndavid.net')\n",
    "\n",
    "print(result.group())"
   ]
  },
  {
   "cell_type": "code",
   "execution_count": 41,
   "metadata": {},
   "outputs": [
    {
     "name": "stdout",
     "output_type": "stream",
     "text": [
      "('jndavid.', 'net')\n"
     ]
    }
   ],
   "source": [
    "# Example 2\n",
    "\n",
    "result = re.match('http://(.+)(.{3})', 'http://jndavid.net')\n",
    "\n",
    "print(result.groups())"
   ]
  },
  {
   "cell_type": "markdown",
   "metadata": {},
   "source": [
    "***\n",
    "# Search\n",
    "***"
   ]
  },
  {
   "cell_type": "code",
   "execution_count": 65,
   "metadata": {},
   "outputs": [
    {
     "name": "stdout",
     "output_type": "stream",
     "text": [
      "car\n"
     ]
    }
   ],
   "source": [
    "# Search the pattern into a string\n",
    "\n",
    "result = re.search('cars*', 'the car and cars')\n",
    "\n",
    "print(result.group())"
   ]
  },
  {
   "cell_type": "markdown",
   "metadata": {},
   "source": [
    "***\n",
    "# Findall\n",
    "***"
   ]
  },
  {
   "cell_type": "code",
   "execution_count": 57,
   "metadata": {},
   "outputs": [
    {
     "name": "stdout",
     "output_type": "stream",
     "text": [
      "['car', 'cars']\n"
     ]
    }
   ],
   "source": [
    "# Find all the occurrences of the pattern into a string\n",
    "\n",
    "result = re.findall('cars*', 'the car and cars')\n",
    "\n",
    "print(result)"
   ]
  },
  {
   "cell_type": "markdown",
   "metadata": {},
   "source": [
    "***\n",
    "# Sub\n",
    "***"
   ]
  },
  {
   "cell_type": "code",
   "execution_count": 60,
   "metadata": {},
   "outputs": [
    {
     "name": "stdout",
     "output_type": "stream",
     "text": [
      "the CAR and CAR\n"
     ]
    }
   ],
   "source": [
    "# Replace all the occurrences of the pattern into a string\n",
    "\n",
    "result = re.sub('cars*', 'CAR', 'the car and cars')\n",
    "\n",
    "print(result)"
   ]
  }
 ],
 "metadata": {
  "kernelspec": {
   "display_name": "Python 3",
   "language": "python",
   "name": "python3"
  },
  "language_info": {
   "codemirror_mode": {
    "name": "ipython",
    "version": 3
   },
   "file_extension": ".py",
   "mimetype": "text/x-python",
   "name": "python",
   "nbconvert_exporter": "python",
   "pygments_lexer": "ipython3",
   "version": "3.7.1"
  }
 },
 "nbformat": 4,
 "nbformat_minor": 2
}
